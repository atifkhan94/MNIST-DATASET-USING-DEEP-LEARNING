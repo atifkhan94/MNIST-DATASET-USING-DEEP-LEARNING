{
 "cells": [
  {
   "cell_type": "code",
   "execution_count": 1,
   "id": "c34d8a86",
   "metadata": {
    "execution": {
     "iopub.execute_input": "2025-02-28T23:54:43.355410Z",
     "iopub.status.busy": "2025-02-28T23:54:43.355017Z",
     "iopub.status.idle": "2025-02-28T23:54:57.277246Z",
     "shell.execute_reply": "2025-02-28T23:54:57.276238Z"
    },
    "papermill": {
     "duration": 13.930986,
     "end_time": "2025-02-28T23:54:57.279314",
     "exception": false,
     "start_time": "2025-02-28T23:54:43.348328",
     "status": "completed"
    },
    "tags": []
   },
   "outputs": [],
   "source": [
    "import random\n",
    "import numpy as np\n",
    "from keras.datasets import mnist\n",
    "import matplotlib.pyplot as plt\n",
    "from keras.models import Sequential\n",
    "from keras.layers import Conv2D, Dense, Dropout, Flatten, MaxPooling2D\n",
    "from keras.models import load_model"
   ]
  },
  {
   "cell_type": "code",
   "execution_count": 2,
   "id": "78fa8a70",
   "metadata": {
    "execution": {
     "iopub.execute_input": "2025-02-28T23:54:57.287472Z",
     "iopub.status.busy": "2025-02-28T23:54:57.286943Z",
     "iopub.status.idle": "2025-02-28T23:54:57.861504Z",
     "shell.execute_reply": "2025-02-28T23:54:57.860594Z"
    },
    "papermill": {
     "duration": 0.579924,
     "end_time": "2025-02-28T23:54:57.862991",
     "exception": false,
     "start_time": "2025-02-28T23:54:57.283067",
     "status": "completed"
    },
    "tags": []
   },
   "outputs": [
    {
     "name": "stdout",
     "output_type": "stream",
     "text": [
      "Downloading data from https://storage.googleapis.com/tensorflow/tf-keras-datasets/mnist.npz\n",
      "\u001b[1m11490434/11490434\u001b[0m \u001b[32m━━━━━━━━━━━━━━━━━━━━\u001b[0m\u001b[37m\u001b[0m \u001b[1m0s\u001b[0m 0us/step\n"
     ]
    },
    {
     "data": {
      "text/plain": [
       "(array([[[0, 0, 0, ..., 0, 0, 0],\n",
       "         [0, 0, 0, ..., 0, 0, 0],\n",
       "         [0, 0, 0, ..., 0, 0, 0],\n",
       "         ...,\n",
       "         [0, 0, 0, ..., 0, 0, 0],\n",
       "         [0, 0, 0, ..., 0, 0, 0],\n",
       "         [0, 0, 0, ..., 0, 0, 0]],\n",
       " \n",
       "        [[0, 0, 0, ..., 0, 0, 0],\n",
       "         [0, 0, 0, ..., 0, 0, 0],\n",
       "         [0, 0, 0, ..., 0, 0, 0],\n",
       "         ...,\n",
       "         [0, 0, 0, ..., 0, 0, 0],\n",
       "         [0, 0, 0, ..., 0, 0, 0],\n",
       "         [0, 0, 0, ..., 0, 0, 0]],\n",
       " \n",
       "        [[0, 0, 0, ..., 0, 0, 0],\n",
       "         [0, 0, 0, ..., 0, 0, 0],\n",
       "         [0, 0, 0, ..., 0, 0, 0],\n",
       "         ...,\n",
       "         [0, 0, 0, ..., 0, 0, 0],\n",
       "         [0, 0, 0, ..., 0, 0, 0],\n",
       "         [0, 0, 0, ..., 0, 0, 0]],\n",
       " \n",
       "        ...,\n",
       " \n",
       "        [[0, 0, 0, ..., 0, 0, 0],\n",
       "         [0, 0, 0, ..., 0, 0, 0],\n",
       "         [0, 0, 0, ..., 0, 0, 0],\n",
       "         ...,\n",
       "         [0, 0, 0, ..., 0, 0, 0],\n",
       "         [0, 0, 0, ..., 0, 0, 0],\n",
       "         [0, 0, 0, ..., 0, 0, 0]],\n",
       " \n",
       "        [[0, 0, 0, ..., 0, 0, 0],\n",
       "         [0, 0, 0, ..., 0, 0, 0],\n",
       "         [0, 0, 0, ..., 0, 0, 0],\n",
       "         ...,\n",
       "         [0, 0, 0, ..., 0, 0, 0],\n",
       "         [0, 0, 0, ..., 0, 0, 0],\n",
       "         [0, 0, 0, ..., 0, 0, 0]],\n",
       " \n",
       "        [[0, 0, 0, ..., 0, 0, 0],\n",
       "         [0, 0, 0, ..., 0, 0, 0],\n",
       "         [0, 0, 0, ..., 0, 0, 0],\n",
       "         ...,\n",
       "         [0, 0, 0, ..., 0, 0, 0],\n",
       "         [0, 0, 0, ..., 0, 0, 0],\n",
       "         [0, 0, 0, ..., 0, 0, 0]]], dtype=uint8),\n",
       " array([5, 0, 4, ..., 5, 6, 8], dtype=uint8))"
      ]
     },
     "execution_count": 2,
     "metadata": {},
     "output_type": "execute_result"
    }
   ],
   "source": [
    "mnist.load_data()[0]"
   ]
  },
  {
   "cell_type": "code",
   "execution_count": 3,
   "id": "7081eb14",
   "metadata": {
    "execution": {
     "iopub.execute_input": "2025-02-28T23:54:57.871580Z",
     "iopub.status.busy": "2025-02-28T23:54:57.871295Z",
     "iopub.status.idle": "2025-02-28T23:54:58.487219Z",
     "shell.execute_reply": "2025-02-28T23:54:58.486408Z"
    },
    "papermill": {
     "duration": 0.622126,
     "end_time": "2025-02-28T23:54:58.489063",
     "exception": false,
     "start_time": "2025-02-28T23:54:57.866937",
     "status": "completed"
    },
    "tags": []
   },
   "outputs": [],
   "source": [
    "(train_images, train_labels) = mnist.load_data()[0]\n",
    "(test_images, test_labels) = mnist.load_data()[1]"
   ]
  },
  {
   "cell_type": "code",
   "execution_count": 4,
   "id": "9cdf89c8",
   "metadata": {
    "execution": {
     "iopub.execute_input": "2025-02-28T23:54:58.499793Z",
     "iopub.status.busy": "2025-02-28T23:54:58.499283Z",
     "iopub.status.idle": "2025-02-28T23:54:58.505123Z",
     "shell.execute_reply": "2025-02-28T23:54:58.504210Z"
    },
    "papermill": {
     "duration": 0.012871,
     "end_time": "2025-02-28T23:54:58.506653",
     "exception": false,
     "start_time": "2025-02-28T23:54:58.493782",
     "status": "completed"
    },
    "tags": []
   },
   "outputs": [
    {
     "name": "stdout",
     "output_type": "stream",
     "text": [
      "Shape of Train Images (60000, 28, 28)\n",
      "Shape of Test Images (10000, 28, 28)\n"
     ]
    }
   ],
   "source": [
    "print(\"Shape of Train Images\", train_images.shape)\n",
    "print(\"Shape of Test Images\", test_images.shape)\n",
    "# Shape of Train Images (60000, 28, 28)\n",
    "# Shape of Test Images (10000, 28, 28)"
   ]
  },
  {
   "cell_type": "code",
   "execution_count": 5,
   "id": "8aefeb04",
   "metadata": {
    "execution": {
     "iopub.execute_input": "2025-02-28T23:54:58.515973Z",
     "iopub.status.busy": "2025-02-28T23:54:58.515643Z",
     "iopub.status.idle": "2025-02-28T23:54:58.748820Z",
     "shell.execute_reply": "2025-02-28T23:54:58.747871Z"
    },
    "papermill": {
     "duration": 0.239185,
     "end_time": "2025-02-28T23:54:58.750203",
     "exception": false,
     "start_time": "2025-02-28T23:54:58.511018",
     "status": "completed"
    },
    "tags": []
   },
   "outputs": [
    {
     "data": {
      "image/png": "[encoded data removed]",
      "text/plain": [
       "<Figure size 640x480 with 1 Axes>"
      ]
     },
     "metadata": {},
     "output_type": "display_data"
    }
   ],
   "source": [
    "plt.imshow(train_images[37], cmap=\"gray_r\")\n",
    "plt.show()"
   ]
  },
  {
   "cell_type": "code",
   "execution_count": 6,
   "id": "6c361e5c",
   "metadata": {
    "execution": {
     "iopub.execute_input": "2025-02-28T23:54:58.759848Z",
     "iopub.status.busy": "2025-02-28T23:54:58.759517Z",
     "iopub.status.idle": "2025-02-28T23:54:58.901129Z",
     "shell.execute_reply": "2025-02-28T23:54:58.900132Z"
    },
    "papermill": {
     "duration": 0.148001,
     "end_time": "2025-02-28T23:54:58.902583",
     "exception": false,
     "start_time": "2025-02-28T23:54:58.754582",
     "status": "completed"
    },
    "tags": []
   },
   "outputs": [
    {
     "name": "stdout",
     "output_type": "stream",
     "text": [
      "Shape of Train Images (60000, 28, 28, 1)\n",
      "Shape of Test Images (10000, 28, 28, 1)\n"
     ]
    }
   ],
   "source": [
    "\"\"\"\n",
    "1. 3D --> 4D Numpy Array\n",
    "2. Normalization: /255\n",
    "\n",
    "\"\"\"\n",
    "\n",
    "# 3D --> 4D Numpy Array\n",
    "train_images = train_images.reshape(train_images.shape[0], 28, 28, 1)\n",
    "test_images = test_images.reshape(test_images.shape[0], 28, 28, 1)\n",
    "print(\"Shape of Train Images\", train_images.shape)\n",
    "print(\"Shape of Test Images\", test_images.shape)\n",
    "\n",
    "\n",
    "# Normalization: /255\n",
    "train_images = train_images.astype(\"float32\")\n",
    "test_images = test_images.astype(\"float32\")\n",
    "\n",
    "train_images /= 255\n",
    "test_images /= 255"
   ]
  },
  {
   "cell_type": "code",
   "execution_count": 7,
   "id": "371fcb9d",
   "metadata": {
    "execution": {
     "iopub.execute_input": "2025-02-28T23:54:58.913823Z",
     "iopub.status.busy": "2025-02-28T23:54:58.913379Z",
     "iopub.status.idle": "2025-02-28T23:54:58.917639Z",
     "shell.execute_reply": "2025-02-28T23:54:58.916625Z"
    },
    "papermill": {
     "duration": 0.012298,
     "end_time": "2025-02-28T23:54:58.919448",
     "exception": false,
     "start_time": "2025-02-28T23:54:58.907150",
     "status": "completed"
    },
    "tags": []
   },
   "outputs": [],
   "source": [
    "input_shape = (28,28,1)"
   ]
  },
  {
   "cell_type": "code",
   "execution_count": 8,
   "id": "395fdb69",
   "metadata": {
    "execution": {
     "iopub.execute_input": "2025-02-28T23:54:58.932743Z",
     "iopub.status.busy": "2025-02-28T23:54:58.932391Z",
     "iopub.status.idle": "2025-02-28T23:54:59.045647Z",
     "shell.execute_reply": "2025-02-28T23:54:59.044658Z"
    },
    "papermill": {
     "duration": 0.121169,
     "end_time": "2025-02-28T23:54:59.047331",
     "exception": false,
     "start_time": "2025-02-28T23:54:58.926162",
     "status": "completed"
    },
    "tags": []
   },
   "outputs": [
    {
     "name": "stderr",
     "output_type": "stream",
     "text": [
      "/usr/local/lib/python3.10/dist-packages/keras/src/layers/convolutional/base_conv.py:107: UserWarning: Do not pass an `input_shape`/`input_dim` argument to a layer. When using Sequential models, prefer using an `Input(shape)` object as the first layer in the model instead.\n",
      "  super().__init__(activity_regularizer=activity_regularizer, **kwargs)\n"
     ]
    }
   ],
   "source": [
    "model = Sequential()\n",
    "\n",
    "model.add(Conv2D(28, kernel_size=(3,3), input_shape = input_shape))\n",
    "model.add(MaxPooling2D(pool_size=(2,2)))\n",
    "\n",
    "model.add(Flatten())\n",
    "\n",
    "model.add(Dense(128, activation=\"relu\"))\n",
    "model.add(Dropout(0.2))\n",
    "model.add(Dense(10, activation=\"softmax\"))"
   ]
  },
  {
   "cell_type": "code",
   "execution_count": 9,
   "id": "2b992dfc",
   "metadata": {
    "execution": {
     "iopub.execute_input": "2025-02-28T23:54:59.057340Z",
     "iopub.status.busy": "2025-02-28T23:54:59.057038Z",
     "iopub.status.idle": "2025-02-28T23:54:59.068916Z",
     "shell.execute_reply": "2025-02-28T23:54:59.067981Z"
    },
    "papermill": {
     "duration": 0.018578,
     "end_time": "2025-02-28T23:54:59.070495",
     "exception": false,
     "start_time": "2025-02-28T23:54:59.051917",
     "status": "completed"
    },
    "tags": []
   },
   "outputs": [],
   "source": [
    "model.compile(optimizer=\"adam\",\n",
    "              loss = \"sparse_categorical_crossentropy\",\n",
    "              metrics = [\"accuracy\"])"
   ]
  },
  {
   "cell_type": "code",
   "execution_count": 10,
   "id": "98d71522",
   "metadata": {
    "execution": {
     "iopub.execute_input": "2025-02-28T23:54:59.080376Z",
     "iopub.status.busy": "2025-02-28T23:54:59.080097Z",
     "iopub.status.idle": "2025-02-28T23:54:59.096879Z",
     "shell.execute_reply": "2025-02-28T23:54:59.096121Z"
    },
    "papermill": {
     "duration": 0.023112,
     "end_time": "2025-02-28T23:54:59.098311",
     "exception": false,
     "start_time": "2025-02-28T23:54:59.075199",
     "status": "completed"
    },
    "tags": []
   },
   "outputs": [
    {
     "data": {
      "text/html": [
       "<pre style=\"white-space:pre;overflow-x:auto;line-height:normal;font-family:Menlo,'DejaVu Sans Mono',consolas,'Courier New',monospace\"><span style=\"font-weight: bold\">Model: \"sequential\"</span>\n",
       "</pre>\n"
      ],
      "text/plain": [
       "\u001b[1mModel: \"sequential\"\u001b[0m\n"
      ]
     },
     "metadata": {},
     "output_type": "display_data"
    },
    {
     "data": {
      "text/html": [
       "<pre style=\"white-space:pre;overflow-x:auto;line-height:normal;font-family:Menlo,'DejaVu Sans Mono',consolas,'Courier New',monospace\">┏━━━━━━━━━━━━━━━━━━━━━━━━━━━━━━━━━━━━━━┳━━━━━━━━━━━━━━━━━━━━━━━━━━━━━┳━━━━━━━━━━━━━━━━━┓\n",
       "┃<span style=\"font-weight: bold\"> Layer (type)                         </span>┃<span style=\"font-weight: bold\"> Output Shape                </span>┃<span style=\"font-weight: bold\">         Param # </span>┃\n",
       "┡━━━━━━━━━━━━━━━━━━━━━━━━━━━━━━━━━━━━━━╇━━━━━━━━━━━━━━━━━━━━━━━━━━━━━╇━━━━━━━━━━━━━━━━━┩\n",
       "│ conv2d (<span style=\"color: #0087ff; text-decoration-color: #0087ff\">Conv2D</span>)                      │ (<span style=\"color: #00d7ff; text-decoration-color: #00d7ff\">None</span>, <span style=\"color: #00af00; text-decoration-color: #00af00\">26</span>, <span style=\"color: #00af00; text-decoration-color: #00af00\">26</span>, <span style=\"color: #00af00; text-decoration-color: #00af00\">28</span>)          │             <span style=\"color: #00af00; text-decoration-color: #00af00\">280</span> │\n",
       "├──────────────────────────────────────┼─────────────────────────────┼─────────────────┤\n",
       "│ max_pooling2d (<span style=\"color: #0087ff; text-decoration-color: #0087ff\">MaxPooling2D</span>)         │ (<span style=\"color: #00d7ff; text-decoration-color: #00d7ff\">None</span>, <span style=\"color: #00af00; text-decoration-color: #00af00\">13</span>, <span style=\"color: #00af00; text-decoration-color: #00af00\">13</span>, <span style=\"color: #00af00; text-decoration-color: #00af00\">28</span>)          │               <span style=\"color: #00af00; text-decoration-color: #00af00\">0</span> │\n",
       "├──────────────────────────────────────┼─────────────────────────────┼─────────────────┤\n",
       "│ flatten (<span style=\"color: #0087ff; text-decoration-color: #0087ff\">Flatten</span>)                    │ (<span style=\"color: #00d7ff; text-decoration-color: #00d7ff\">None</span>, <span style=\"color: #00af00; text-decoration-color: #00af00\">4732</span>)                │               <span style=\"color: #00af00; text-decoration-color: #00af00\">0</span> │\n",
       "├──────────────────────────────────────┼─────────────────────────────┼─────────────────┤\n",
       "│ dense (<span style=\"color: #0087ff; text-decoration-color: #0087ff\">Dense</span>)                        │ (<span style=\"color: #00d7ff; text-decoration-color: #00d7ff\">None</span>, <span style=\"color: #00af00; text-decoration-color: #00af00\">128</span>)                 │         <span style=\"color: #00af00; text-decoration-color: #00af00\">605,824</span> │\n",
       "├──────────────────────────────────────┼─────────────────────────────┼─────────────────┤\n",
       "│ dropout (<span style=\"color: #0087ff; text-decoration-color: #0087ff\">Dropout</span>)                    │ (<span style=\"color: #00d7ff; text-decoration-color: #00d7ff\">None</span>, <span style=\"color: #00af00; text-decoration-color: #00af00\">128</span>)                 │               <span style=\"color: #00af00; text-decoration-color: #00af00\">0</span> │\n",
       "├──────────────────────────────────────┼─────────────────────────────┼─────────────────┤\n",
       "│ dense_1 (<span style=\"color: #0087ff; text-decoration-color: #0087ff\">Dense</span>)                      │ (<span style=\"color: #00d7ff; text-decoration-color: #00d7ff\">None</span>, <span style=\"color: #00af00; text-decoration-color: #00af00\">10</span>)                  │           <span style=\"color: #00af00; text-decoration-color: #00af00\">1,290</span> │\n",
       "└──────────────────────────────────────┴─────────────────────────────┴─────────────────┘\n",
       "</pre>\n"
      ],
      "text/plain": [
       "┏━━━━━━━━━━━━━━━━━━━━━━━━━━━━━━━━━━━━━━┳━━━━━━━━━━━━━━━━━━━━━━━━━━━━━┳━━━━━━━━━━━━━━━━━┓\n",
       "┃\u001b[1m \u001b[0m\u001b[1mLayer (type)                        \u001b[0m\u001b[1m \u001b[0m┃\u001b[1m \u001b[0m\u001b[1mOutput Shape               \u001b[0m\u001b[1m \u001b[0m┃\u001b[1m \u001b[0m\u001b[1m        Param #\u001b[0m\u001b[1m \u001b[0m┃\n",
       "┡━━━━━━━━━━━━━━━━━━━━━━━━━━━━━━━━━━━━━━╇━━━━━━━━━━━━━━━━━━━━━━━━━━━━━╇━━━━━━━━━━━━━━━━━┩\n",
       "│ conv2d (\u001b[38;5;33mConv2D\u001b[0m)                      │ (\u001b[38;5;45mNone\u001b[0m, \u001b[38;5;34m26\u001b[0m, \u001b[38;5;34m26\u001b[0m, \u001b[38;5;34m28\u001b[0m)          │             \u001b[38;5;34m280\u001b[0m │\n",
       "├──────────────────────────────────────┼─────────────────────────────┼─────────────────┤\n",
       "│ max_pooling2d (\u001b[38;5;33mMaxPooling2D\u001b[0m)         │ (\u001b[38;5;45mNone\u001b[0m, \u001b[38;5;34m13\u001b[0m, \u001b[38;5;34m13\u001b[0m, \u001b[38;5;34m28\u001b[0m)          │               \u001b[38;5;34m0\u001b[0m │\n",
       "├──────────────────────────────────────┼─────────────────────────────┼─────────────────┤\n",
       "│ flatten (\u001b[38;5;33mFlatten\u001b[0m)                    │ (\u001b[38;5;45mNone\u001b[0m, \u001b[38;5;34m4732\u001b[0m)                │               \u001b[38;5;34m0\u001b[0m │\n",
       "├──────────────────────────────────────┼─────────────────────────────┼─────────────────┤\n",
       "│ dense (\u001b[38;5;33mDense\u001b[0m)                        │ (\u001b[38;5;45mNone\u001b[0m, \u001b[38;5;34m128\u001b[0m)                 │         \u001b[38;5;34m605,824\u001b[0m │\n",
       "├──────────────────────────────────────┼─────────────────────────────┼─────────────────┤\n",
       "│ dropout (\u001b[38;5;33mDropout\u001b[0m)                    │ (\u001b[38;5;45mNone\u001b[0m, \u001b[38;5;34m128\u001b[0m)                 │               \u001b[38;5;34m0\u001b[0m │\n",
       "├──────────────────────────────────────┼─────────────────────────────┼─────────────────┤\n",
       "│ dense_1 (\u001b[38;5;33mDense\u001b[0m)                      │ (\u001b[38;5;45mNone\u001b[0m, \u001b[38;5;34m10\u001b[0m)                  │           \u001b[38;5;34m1,290\u001b[0m │\n",
       "└──────────────────────────────────────┴─────────────────────────────┴─────────────────┘\n"
      ]
     },
     "metadata": {},
     "output_type": "display_data"
    },
    {
     "data": {
      "text/html": [
       "<pre style=\"white-space:pre;overflow-x:auto;line-height:normal;font-family:Menlo,'DejaVu Sans Mono',consolas,'Courier New',monospace\"><span style=\"font-weight: bold\"> Total params: </span><span style=\"color: #00af00; text-decoration-color: #00af00\">607,394</span> (2.32 MB)\n",
       "</pre>\n"
      ],
      "text/plain": [
       "\u001b[1m Total params: \u001b[0m\u001b[38;5;34m607,394\u001b[0m (2.32 MB)\n"
      ]
     },
     "metadata": {},
     "output_type": "display_data"
    },
    {
     "data": {
      "text/html": [
       "<pre style=\"white-space:pre;overflow-x:auto;line-height:normal;font-family:Menlo,'DejaVu Sans Mono',consolas,'Courier New',monospace\"><span style=\"font-weight: bold\"> Trainable params: </span><span style=\"color: #00af00; text-decoration-color: #00af00\">607,394</span> (2.32 MB)\n",
       "</pre>\n"
      ],
      "text/plain": [
       "\u001b[1m Trainable params: \u001b[0m\u001b[38;5;34m607,394\u001b[0m (2.32 MB)\n"
      ]
     },
     "metadata": {},
     "output_type": "display_data"
    },
    {
     "data": {
      "text/html": [
       "<pre style=\"white-space:pre;overflow-x:auto;line-height:normal;font-family:Menlo,'DejaVu Sans Mono',consolas,'Courier New',monospace\"><span style=\"font-weight: bold\"> Non-trainable params: </span><span style=\"color: #00af00; text-decoration-color: #00af00\">0</span> (0.00 B)\n",
       "</pre>\n"
      ],
      "text/plain": [
       "\u001b[1m Non-trainable params: \u001b[0m\u001b[38;5;34m0\u001b[0m (0.00 B)\n"
      ]
     },
     "metadata": {},
     "output_type": "display_data"
    }
   ],
   "source": [
    "model.summary()"
   ]
  },
  {
   "cell_type": "code",
   "execution_count": 11,
   "id": "8ee88ce3",
   "metadata": {
    "execution": {
     "iopub.execute_input": "2025-02-28T23:54:59.109447Z",
     "iopub.status.busy": "2025-02-28T23:54:59.109171Z",
     "iopub.status.idle": "2025-02-28T23:57:54.811631Z",
     "shell.execute_reply": "2025-02-28T23:57:54.810798Z"
    },
    "papermill": {
     "duration": 175.709941,
     "end_time": "2025-02-28T23:57:54.813494",
     "exception": false,
     "start_time": "2025-02-28T23:54:59.103553",
     "status": "completed"
    },
    "tags": []
   },
   "outputs": [
    {
     "name": "stdout",
     "output_type": "stream",
     "text": [
      "Epoch 1/10\n",
      "\u001b[1m1875/1875\u001b[0m \u001b[32m━━━━━━━━━━━━━━━━━━━━\u001b[0m\u001b[37m\u001b[0m \u001b[1m18s\u001b[0m 9ms/step - accuracy: 0.8888 - loss: 0.3623\n",
      "Epoch 2/10\n",
      "\u001b[1m1875/1875\u001b[0m \u001b[32m━━━━━━━━━━━━━━━━━━━━\u001b[0m\u001b[37m\u001b[0m \u001b[1m18s\u001b[0m 9ms/step - accuracy: 0.9731 - loss: 0.0893\n",
      "Epoch 3/10\n",
      "\u001b[1m1875/1875\u001b[0m \u001b[32m━━━━━━━━━━━━━━━━━━━━\u001b[0m\u001b[37m\u001b[0m \u001b[1m18s\u001b[0m 9ms/step - accuracy: 0.9812 - loss: 0.0586\n",
      "Epoch 4/10\n",
      "\u001b[1m1875/1875\u001b[0m \u001b[32m━━━━━━━━━━━━━━━━━━━━\u001b[0m\u001b[37m\u001b[0m \u001b[1m17s\u001b[0m 9ms/step - accuracy: 0.9859 - loss: 0.0433\n",
      "Epoch 5/10\n",
      "\u001b[1m1875/1875\u001b[0m \u001b[32m━━━━━━━━━━━━━━━━━━━━\u001b[0m\u001b[37m\u001b[0m \u001b[1m17s\u001b[0m 9ms/step - accuracy: 0.9882 - loss: 0.0352\n",
      "Epoch 6/10\n",
      "\u001b[1m1875/1875\u001b[0m \u001b[32m━━━━━━━━━━━━━━━━━━━━\u001b[0m\u001b[37m\u001b[0m \u001b[1m18s\u001b[0m 9ms/step - accuracy: 0.9905 - loss: 0.0279\n",
      "Epoch 7/10\n",
      "\u001b[1m1875/1875\u001b[0m \u001b[32m━━━━━━━━━━━━━━━━━━━━\u001b[0m\u001b[37m\u001b[0m \u001b[1m18s\u001b[0m 9ms/step - accuracy: 0.9920 - loss: 0.0226\n",
      "Epoch 8/10\n",
      "\u001b[1m1875/1875\u001b[0m \u001b[32m━━━━━━━━━━━━━━━━━━━━\u001b[0m\u001b[37m\u001b[0m \u001b[1m17s\u001b[0m 9ms/step - accuracy: 0.9933 - loss: 0.0193\n",
      "Epoch 9/10\n",
      "\u001b[1m1875/1875\u001b[0m \u001b[32m━━━━━━━━━━━━━━━━━━━━\u001b[0m\u001b[37m\u001b[0m \u001b[1m18s\u001b[0m 9ms/step - accuracy: 0.9941 - loss: 0.0168\n",
      "Epoch 10/10\n",
      "\u001b[1m1875/1875\u001b[0m \u001b[32m━━━━━━━━━━━━━━━━━━━━\u001b[0m\u001b[37m\u001b[0m \u001b[1m17s\u001b[0m 9ms/step - accuracy: 0.9949 - loss: 0.0150\n"
     ]
    }
   ],
   "source": [
    "history = model.fit(x = train_images,\n",
    "                    y = train_labels,\n",
    "                    epochs = 10)"
   ]
  },
  {
   "cell_type": "code",
   "execution_count": 12,
   "id": "cac3719d",
   "metadata": {
    "execution": {
     "iopub.execute_input": "2025-02-28T23:57:55.220390Z",
     "iopub.status.busy": "2025-02-28T23:57:55.220050Z",
     "iopub.status.idle": "2025-02-28T23:57:56.355205Z",
     "shell.execute_reply": "2025-02-28T23:57:56.354346Z"
    },
    "papermill": {
     "duration": 1.314285,
     "end_time": "2025-02-28T23:57:56.356536",
     "exception": false,
     "start_time": "2025-02-28T23:57:55.042251",
     "status": "completed"
    },
    "tags": []
   },
   "outputs": [
    {
     "name": "stdout",
     "output_type": "stream",
     "text": [
      "\u001b[1m313/313\u001b[0m \u001b[32m━━━━━━━━━━━━━━━━━━━━\u001b[0m\u001b[37m\u001b[0m \u001b[1m1s\u001b[0m 3ms/step - accuracy: 0.9825 - loss: 0.0697\n",
      "Test Loss:  0.05372130870819092\n",
      "Test Accuracy:  0.9858999848365784\n"
     ]
    }
   ],
   "source": [
    "test_loss, test_accuracy = model.evaluate(test_images, test_labels)\n",
    "print(\"Test Loss: \", test_loss)\n",
    "print(\"Test Accuracy: \", test_accuracy)"
   ]
  },
  {
   "cell_type": "code",
   "execution_count": 13,
   "id": "5800fecc",
   "metadata": {
    "execution": {
     "iopub.execute_input": "2025-02-28T23:57:56.708813Z",
     "iopub.status.busy": "2025-02-28T23:57:56.708422Z",
     "iopub.status.idle": "2025-02-28T23:57:57.757527Z",
     "shell.execute_reply": "2025-02-28T23:57:57.756750Z"
    },
    "papermill": {
     "duration": 1.226755,
     "end_time": "2025-02-28T23:57:57.759040",
     "exception": false,
     "start_time": "2025-02-28T23:57:56.532285",
     "status": "completed"
    },
    "tags": []
   },
   "outputs": [
    {
     "name": "stdout",
     "output_type": "stream",
     "text": [
      "\u001b[1m313/313\u001b[0m \u001b[32m━━━━━━━━━━━━━━━━━━━━\u001b[0m\u001b[37m\u001b[0m \u001b[1m1s\u001b[0m 3ms/step - accuracy: 0.9825 - loss: 0.0697\n",
      "Test Loss:  0.05372130870819092\n",
      "Test Accuracy:  0.9858999848365784\n",
      "Keys:  dict_keys(['accuracy', 'loss'])\n"
     ]
    }
   ],
   "source": [
    "test_loss, test_accuracy = model.evaluate(test_images, test_labels)\n",
    "print(\"Test Loss: \", test_loss)\n",
    "print(\"Test Accuracy: \", test_accuracy)\n",
    "history_dict = history.history\n",
    "print(\"Keys: \", history_dict.keys())"
   ]
  },
  {
   "cell_type": "code",
   "execution_count": null,
   "id": "7b4f3d90",
   "metadata": {
    "papermill": {
     "duration": 0.176557,
     "end_time": "2025-02-28T23:57:58.112755",
     "exception": false,
     "start_time": "2025-02-28T23:57:57.936198",
     "status": "completed"
    },
    "tags": []
   },
   "outputs": [],
   "source": []
  },
  {
   "cell_type": "code",
   "execution_count": null,
   "id": "39bd205c",
   "metadata": {
    "papermill": {
     "duration": 0.177673,
     "end_time": "2025-02-28T23:57:58.468897",
     "exception": false,
     "start_time": "2025-02-28T23:57:58.291224",
     "status": "completed"
    },
    "tags": []
   },
   "outputs": [],
   "source": []
  },
  {
   "cell_type": "code",
   "execution_count": null,
   "id": "c29eee93",
   "metadata": {
    "papermill": {
     "duration": 0.177764,
     "end_time": "2025-02-28T23:57:58.822157",
     "exception": false,
     "start_time": "2025-02-28T23:57:58.644393",
     "status": "completed"
    },
    "tags": []
   },
   "outputs": [],
   "source": []
  },
  {
   "cell_type": "code",
   "execution_count": 14,
   "id": "7714ccac",
   "metadata": {
    "execution": {
     "iopub.execute_input": "2025-02-28T23:57:59.200762Z",
     "iopub.status.busy": "2025-02-28T23:57:59.200294Z",
     "iopub.status.idle": "2025-02-28T23:57:59.578592Z",
     "shell.execute_reply": "2025-02-28T23:57:59.577647Z"
    },
    "papermill": {
     "duration": 0.558996,
     "end_time": "2025-02-28T23:57:59.580435",
     "exception": false,
     "start_time": "2025-02-28T23:57:59.021439",
     "status": "completed"
    },
    "tags": []
   },
   "outputs": [
    {
     "data": {
      "image/png": "[encoded data removed]",
      "text/plain": [
       "<Figure size 640x480 with 1 Axes>"
      ]
     },
     "metadata": {},
     "output_type": "display_data"
    },
    {
     "data": {
      "image/png": "[encoded data removed]",
      "text/plain": [
       "<Figure size 640x480 with 1 Axes>"
      ]
     },
     "metadata": {},
     "output_type": "display_data"
    }
   ],
   "source": [
    "# loss, accuracy graph\n",
    "epochs = range(1,11)\n",
    "loss = history_dict[\"loss\"]\n",
    "accuracy = history_dict[\"accuracy\"]\n",
    "\n",
    "plt.plot(epochs, loss)\n",
    "plt.title(\"Loss Graph\")\n",
    "plt.xlabel(\"Epochs\")\n",
    "plt.ylabel(\"Loss\")\n",
    "plt.show()\n",
    "\n",
    "plt.plot(epochs, accuracy)\n",
    "plt.title(\"Accuracy Graph\")\n",
    "plt.xlabel(\"Epochs\")\n",
    "plt.ylabel(\"Accuracy\")\n",
    "plt.show()"
   ]
  },
  {
   "cell_type": "code",
   "execution_count": 15,
   "id": "350aa4f6",
   "metadata": {
    "execution": {
     "iopub.execute_input": "2025-02-28T23:58:00.003066Z",
     "iopub.status.busy": "2025-02-28T23:58:00.002727Z",
     "iopub.status.idle": "2025-02-28T23:58:00.254557Z",
     "shell.execute_reply": "2025-02-28T23:58:00.253543Z"
    },
    "papermill": {
     "duration": 0.432103,
     "end_time": "2025-02-28T23:58:00.256113",
     "exception": false,
     "start_time": "2025-02-28T23:57:59.824010",
     "status": "completed"
    },
    "tags": []
   },
   "outputs": [
    {
     "name": "stdout",
     "output_type": "stream",
     "text": [
      "\u001b[1m1/1\u001b[0m \u001b[32m━━━━━━━━━━━━━━━━━━━━\u001b[0m\u001b[37m\u001b[0m \u001b[1m0s\u001b[0m 55ms/step\n",
      "Predicted Number:  5\n"
     ]
    },
    {
     "data": {
      "image/png": "[encoded data removed]",
      "text/plain": [
       "<Figure size 640x480 with 1 Axes>"
      ]
     },
     "metadata": {},
     "output_type": "display_data"
    }
   ],
   "source": [
    "\n",
    "i = random.randint(1,5000)\n",
    "prediction = model.predict(test_images[i].reshape(1,28,28,1))\n",
    "print(\"Predicted Number: \",prediction.argmax())\n",
    "plt.imshow(test_images[i].reshape(28,28), cmap=\"gray_r\")\n",
    "plt.show()"
   ]
  },
  {
   "cell_type": "code",
   "execution_count": null,
   "id": "b45a5e80",
   "metadata": {
    "papermill": {
     "duration": 0.179845,
     "end_time": "2025-02-28T23:58:00.615166",
     "exception": false,
     "start_time": "2025-02-28T23:58:00.435321",
     "status": "completed"
    },
    "tags": []
   },
   "outputs": [],
   "source": []
  },
  {
   "cell_type": "code",
   "execution_count": null,
   "id": "ef4f98ed",
   "metadata": {
    "papermill": {
     "duration": 0.175432,
     "end_time": "2025-02-28T23:58:00.966654",
     "exception": false,
     "start_time": "2025-02-28T23:58:00.791222",
     "status": "completed"
    },
    "tags": []
   },
   "outputs": [],
   "source": []
  }
 ],
 "metadata": {
  "kaggle": {
   "accelerator": "none",
   "dataSources": [],
   "dockerImageVersionId": 30918,
   "isGpuEnabled": false,
   "isInternetEnabled": true,
   "language": "python",
   "sourceType": "notebook"
  },
  "kernelspec": {
   "display_name": "Python 3",
   "language": "python",
   "name": "python3"
  },
  "language_info": {
   "codemirror_mode": {
    "name": "ipython",
    "version": 3
   },
   "file_extension": ".py",
   "mimetype": "text/x-python",
   "name": "python",
   "nbconvert_exporter": "python",
   "pygments_lexer": "ipython3",
   "version": "3.10.12"
  },
  "papermill": {
   "default_parameters": {},
   "duration": 201.605888,
   "end_time": "2025-02-28T23:58:02.467247",
   "environment_variables": {},
   "exception": null,
   "input_path": "__notebook__.ipynb",
   "output_path": "__notebook__.ipynb",
   "parameters": {},
   "start_time": "2025-02-28T23:54:40.861359",
   "version": "2.6.0"
  }
 },
 "nbformat": 4,
 "nbformat_minor": 5
}
